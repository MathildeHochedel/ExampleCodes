{
 "cells": [
  {
   "cell_type": "code",
   "execution_count": 2,
   "metadata": {},
   "outputs": [],
   "source": [
    "######## PROJET SUR LA COVID 19\n",
    "\n",
    "##### Démarche de travail \n",
    "## 1) Analyse de la forme\n",
    "## - Identification de la cible\n",
    "## - Taille du fichier\n",
    "## - Types de variables\n",
    "## - Variables manquantes\n",
    "\n",
    "## 2) Analyse du fond\n",
    "## - Visualisation de la cible\n",
    "## - Compréhension des variables\n",
    "## - Visualisation des corrélations\n",
    "## - Identification des outliers\n",
    "\n",
    "## 3) Pre-processing\n",
    "## - Split train/test\n",
    "## - Encodage\n",
    "## - Nettoyage des valeurs manquantes \n",
    "\n",
    "## 4) Diagnostic\n",
    "## Première modélisation et définition de la procédure d'évaluation\n",
    "## - Feature Selection\n",
    "## - Feature Engineering\n",
    "## - Feature Scaling\n",
    "## - Suppression des outliers\n",
    "\n",
    "## 5) Amélioration des performances\n",
    "## - Régularisation\n",
    "## - Sélecteur statistique - ANOVA\n",
    "## - Polynomial Features + PCA\n",
    "\n",
    "## 6) Evaluation et optimisation"
   ]
  },
  {
   "cell_type": "markdown",
   "metadata": {},
   "source": [
    "### Importation du dataset et des bibliothèques"
   ]
  },
  {
   "cell_type": "code",
   "execution_count": 4,
   "metadata": {},
   "outputs": [],
   "source": [
    "## Importation des principales bibliothèques\n",
    "import numpy as np\n",
    "import matplotlib.pyplot as plt\n",
    "import pandas as pd\n",
    "import seaborn as sns\n",
    "\n",
    "## options d'affichage\n",
    "import warnings\n",
    "warnings.filterwarnings('ignore')\n",
    "pd.set_option('display.max_row', 111)\n",
    "pd.set_option('display.max_column', 111)\n",
    "\n",
    "## Importation du dataset\n",
    "data = pd.read_csv('dataset.csv', encoding= 'unicode_escape')"
   ]
  },
  {
   "cell_type": "markdown",
   "metadata": {},
   "source": [
    "### Analyse de la forme \n",
    "Conclusions de la partie : \n",
    "- Cible = SARS-Cov-2 exam result\n",
    "- Taille du fichier : (5644,111)\n",
    "- Types de variables : 70 quantitatives et 41 qualitatives\n",
    "- Variables manquantes : "
   ]
  },
  {
   "cell_type": "code",
   "execution_count": null,
   "metadata": {},
   "outputs": [],
   "source": []
  }
 ],
 "metadata": {
  "kernelspec": {
   "display_name": "Python 3",
   "language": "python",
   "name": "python3"
  },
  "language_info": {
   "codemirror_mode": {
    "name": "ipython",
    "version": 3
   },
   "file_extension": ".py",
   "mimetype": "text/x-python",
   "name": "python",
   "nbconvert_exporter": "python",
   "pygments_lexer": "ipython3",
   "version": "3.8.5"
  }
 },
 "nbformat": 4,
 "nbformat_minor": 4
}
